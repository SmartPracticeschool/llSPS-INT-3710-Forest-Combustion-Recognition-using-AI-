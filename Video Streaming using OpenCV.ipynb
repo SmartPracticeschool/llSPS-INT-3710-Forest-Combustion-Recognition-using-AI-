{
 "cells": [
  {
   "cell_type": "code",
   "execution_count": 6,
   "metadata": {
    "scrolled": true
   },
   "outputs": [
    {
     "name": "stdout",
     "output_type": "stream",
     "text": [
      "0\n",
      "no danger\n",
      "0\n",
      "no danger\n",
      "0\n",
      "no danger\n",
      "0\n",
      "no danger\n",
      "0\n",
      "no danger\n",
      "0\n",
      "no danger\n",
      "0\n",
      "no danger\n",
      "0\n",
      "no danger\n",
      "0\n",
      "no danger\n",
      "0\n",
      "no danger\n",
      "0\n",
      "no danger\n",
      "0\n",
      "no danger\n",
      "0\n",
      "no danger\n",
      "0\n",
      "no danger\n",
      "0\n",
      "no danger\n",
      "0\n",
      "no danger\n",
      "1\n",
      "Fire detected\n",
      "Email sent!\n"
     ]
    }
   ],
   "source": [
    "import cv2\n",
    "import numpy as np\n",
    "import smtplib\n",
    "from keras.preprocessing import image \n",
    "import tensorflow as tf\n",
    "\n",
    "model = tf.keras.models.load_model('forest.h5') \n",
    "video = cv2.VideoCapture(0)\n",
    "name = [\"Forest\",\"Fire\"]\n",
    "    \n",
    "while(True):\n",
    "    success, frame = video.read()\n",
    "    cv2.imwrite(\"image.jpg\",frame)\n",
    "    img = image.load_img(\"image.jpg\",target_size = (64,64))\n",
    "    x  = image.img_to_array(img)\n",
    "    x = np.expand_dims(x,axis = 0)\n",
    "    pred = model.predict_classes(x)\n",
    "    p = pred[0]\n",
    "    print(p)\n",
    "    cv2.putText(frame, \"Predicted  Class = \"+str(name[p]), (100,100), cv2.FONT_HERSHEY_SIMPLEX, 1, (0,0,0), 1)\n",
    "     \n",
    "    if pred[0]==1:\n",
    "        print(\"Fire detected\")\n",
    "        gmail_user = 'abc'   #email id without @gmail.com\n",
    "        gmail_password = '123'\n",
    "    #email properties\n",
    "        sent_from = gmail_user\n",
    "        to = ['abc@gmail.com']\n",
    "        subject = '!!!Alert!!!'\n",
    "        email_text = \"\"\"There's Fire Detected in Forest\"\"\"\n",
    "        server = smtplib.SMTP_SSL('smtp.gmail.com',465)\n",
    "        server.ehlo()       #for identification\n",
    "        server.login(gmail_user, gmail_password)   #login to the server\n",
    "        server.sendmail(sent_from, to, email_text)  #sends the msg\n",
    "        server.close()                              #close connection\n",
    "        print ('Email sent!')\n",
    "        break\n",
    "    else:\n",
    "        print(\"no danger\")\n",
    "    \n",
    "    cv2.imshow(\"frame\",frame)\n",
    "\n",
    "    if cv2.waitKey(1) & 0xFF == ord('a'): \n",
    "        break\n",
    "\n",
    "        \n",
    "video.release()\n",
    "cv2.destroyAllWindows()"
   ]
  },
  {
   "cell_type": "code",
   "execution_count": null,
   "metadata": {
    "collapsed": true
   },
   "outputs": [],
   "source": []
  },
  {
   "cell_type": "code",
   "execution_count": null,
   "metadata": {
    "collapsed": true
   },
   "outputs": [],
   "source": []
  }
 ],
 "metadata": {
  "kernelspec": {
   "display_name": "Python 3",
   "language": "python",
   "name": "python3"
  },
  "language_info": {
   "codemirror_mode": {
    "name": "ipython",
    "version": 3
   },
   "file_extension": ".py",
   "mimetype": "text/x-python",
   "name": "python",
   "nbconvert_exporter": "python",
   "pygments_lexer": "ipython3",
   "version": "3.7.4"
  }
 },
 "nbformat": 4,
 "nbformat_minor": 2
}
